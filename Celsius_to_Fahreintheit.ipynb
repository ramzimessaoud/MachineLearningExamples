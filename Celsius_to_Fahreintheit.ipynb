{
  "nbformat": 4,
  "nbformat_minor": 0,
  "metadata": {
    "colab": {
      "provenance": []
    },
    "kernelspec": {
      "name": "python3",
      "display_name": "Python 3"
    },
    "language_info": {
      "name": "python"
    }
  },
  "cells": [
    {
      "cell_type": "code",
      "execution_count": null,
      "metadata": {
        "colab": {
          "base_uri": "https://localhost:8080/",
          "height": 470
        },
        "id": "mbZwPfFXgMdX",
        "outputId": "2d367d8e-88dc-407b-992d-9ba4dbef0141"
      },
      "outputs": [
        {
          "output_type": "stream",
          "name": "stdout",
          "text": [
            "-40.0 degrees Celsius = -40.0 degrees Fahrenheit\n",
            "-10.0 degrees Celsius = 14.0 degrees Fahrenheit\n",
            "0.0 degrees Celsius = 32.0 degrees Fahrenheit\n",
            "8.0 degrees Celsius = 46.0 degrees Fahrenheit\n",
            "15.0 degrees Celsius = 59.0 degrees Fahrenheit\n",
            "22.0 degrees Celsius = 72.0 degrees Fahrenheit\n",
            "38.0 degrees Celsius = 100.0 degrees Fahrenheit\n",
            "Finished training the model\n",
            "1/1 [==============================] - 0s 112ms/step\n",
            "[[211.27545]]\n",
            "These are the layer variables: [array([[1.8292081]], dtype=float32), array([28.354637], dtype=float32)]\n"
          ]
        },
        {
          "output_type": "display_data",
          "data": {
            "text/plain": [
              "<Figure size 432x288 with 1 Axes>"
            ],
            "image/png": "[encoded data removed]"
          },
          "metadata": {
            "needs_background": "light"
          }
        }
      ],
      "source": [
        "# Esempio 1, costruzione di un modelo che, dati dei input in Celsius, trovi il corrispettivo valore in Fahreinheit senza formula.\n",
        "import tensorflow as tf\n",
        "import numpy as np\n",
        "import logging\n",
        "logger = tf.get_logger()\n",
        "logger.setLevel(logging.ERROR)\n",
        "# dati esempio\n",
        "celsius_q    = np.array([-40, -10,  0,  8, 15, 22,  38],  dtype=float)\n",
        "fahrenheit_a = np.array([-40,  14, 32, 46, 59, 72, 100],  dtype=float)\n",
        "\n",
        "for i,c in enumerate(celsius_q):\n",
        "  print(\"{} degrees Celsius = {} degrees Fahrenheit\".format(c, fahrenheit_a[i]))\n",
        "\n",
        "#Layer singolo che usa un neurone (units=1)  che prende un input da single value (input_shape=1)\n",
        "l0 = tf.keras.layers.Dense(units=1, input_shape=[1])\n",
        "\n",
        "#Assemblo il model dal layer\n",
        "model = tf.keras.Sequential([l0])\n",
        "\n",
        "# N.B. Posso definire il layer direttamente assemblando il modello\n",
        "#model = tf.keras.Sequential([\n",
        "#  tf.keras.layers.Dense(units=1, input_shape=[1])\n",
        "#])\n",
        "\n",
        "\n",
        "# compilo il modello\n",
        "model.compile(loss='mean_squared_error', #errore quadrico medio (media dei valori per l'errore)\n",
        "              optimizer=tf.keras.optimizers.Adam(0.1)) # optimizers, funzione per calcolare la precisione delle varibili interne durante l'allenamento\n",
        "              # più il valore è piccolo più iterazioni il modello avra bisogno di fare per predire un Label, di solito tra 0.001 (default), e 0.1.\n",
        "\n",
        "#allenamento\n",
        "history = model.fit(celsius_q, fahrenheit_a, epochs=500, verbose=False)\n",
        "print(\"Finished training the model\")\n",
        "\n",
        "\n",
        "\n",
        "#statistica:\n",
        "import matplotlib.pyplot as plt\n",
        "plt.xlabel('Epoch Number')\n",
        "plt.ylabel(\"Loss Magnitude\")\n",
        "plt.plot(history.history['loss'])\n",
        "# chiedo al modello di predire il output di 100 secondo il suo allenamento\n",
        "print(model.predict([100.0]))\n",
        "\n",
        "# stampo i weights per vedere le varibili che ha settato\n",
        "print(\"These are the layer variables: {}\".format(l0.get_weights()))"
      ]
    },
    {
      "cell_type": "markdown",
      "source": [
        "otteniamo 211 dal modello, secondo la formula da celsius a Fahrenheit, 100 sarebbe 212 quindi assumiamo che il modello ha predetto corretamente il valore."
      ],
      "metadata": {
        "id": "wqWfe67CkWc0"
      }
    }
  ]
}